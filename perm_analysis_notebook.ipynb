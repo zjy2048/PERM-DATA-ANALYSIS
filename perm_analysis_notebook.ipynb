{
 "cells": [
  {
   "cell_type": "code",
   "execution_count": null,
   "id": "3e43105a",
   "metadata": {},
   "outputs": [],
   "source": [
    "import pandas as pd\n",
    "import matplotlib.pyplot as plt\n",
    "import seaborn as sns\n",
    "\n",
    "# 载入 Excel 文件\n",
    "file_path = 'PERM_Disclosure_Data_FY2023_Q4.xlsx'\n",
    "xls = pd.ExcelFile(file_path)\n",
    "\n",
    "# 查看工作表名称\n",
    "print(\"工作表列表:\", xls.sheet_names)\n",
    "\n",
    "# 读取主数据表（假设为第一个）\n",
    "df = xls.parse(xls.sheet_names[0])\n",
    "\n",
    "# 显示列名以便后续匹配\n",
    "print(\"列名示例：\", df.columns.tolist())"
   ]
  },
  {
   "cell_type": "code",
   "execution_count": null,
   "id": "88e9f712",
   "metadata": {},
   "outputs": [],
   "source": [
    "# 标准化字段（请根据你文件实际列名进行修改）\n",
    "df['case_status'] = df['CASE_STATUS'].str.strip()\n",
    "df['salary'] = pd.to_numeric(df['WAGE_OFFERED_FROM_9089'], errors='coerce')\n",
    "df['job_title'] = df['JOB_TITLE']\n",
    "df['employer_state'] = df['EMPLOYER_STATE']\n",
    "df['education_level'] = df['EDUCATION_LEVEL']\n",
    "df['is_certified'] = df['case_status'] == 'Certified'\n",
    "\n",
    "# 处理时间字段\n",
    "df['received_date'] = pd.to_datetime(df['RECEIVED_DATE'], errors='coerce')\n",
    "df['decision_date'] = pd.to_datetime(df['DECISION_DATE'], errors='coerce')\n",
    "df['processing_days'] = (df['decision_date'] - df['received_date']).dt.days\n",
    "\n",
    "# 去除缺失值\n",
    "df_clean = df.dropna(subset=['salary', 'job_title', 'employer_state', 'processing_days', 'education_level'])\n",
    "sns.set(style=\"whitegrid\")"
   ]
  },
  {
   "cell_type": "code",
   "execution_count": null,
   "id": "ec31b3df",
   "metadata": {},
   "outputs": [],
   "source": [
    "grouped = df_clean.groupby('job_title').agg(\n",
    "    avg_salary=('salary', 'mean'),\n",
    "    pass_rate=('is_certified', 'mean'),\n",
    "    count=('salary', 'count')\n",
    ").reset_index()\n",
    "\n",
    "grouped = grouped[grouped['count'] > 50]\n",
    "\n",
    "plt.figure(figsize=(10,6))\n",
    "sns.scatterplot(data=grouped, x='avg_salary', y='pass_rate', size='count', hue='job_title', legend=False)\n",
    "plt.title(\"职位平均薪资 vs 申请通过率\")\n",
    "plt.xlabel(\"平均薪资 ($)\")\n",
    "plt.ylabel(\"通过率\")\n",
    "plt.grid(True)\n",
    "plt.show()"
   ]
  },
  {
   "cell_type": "code",
   "execution_count": null,
   "id": "9b04a5a7",
   "metadata": {},
   "outputs": [],
   "source": [
    "state_proc = df_clean.groupby('employer_state')['processing_days'].mean().sort_values()\n",
    "\n",
    "plt.figure(figsize=(10,6))\n",
    "sns.barplot(x=state_proc.values, y=state_proc.index, palette='coolwarm')\n",
    "plt.title(\"各州平均处理时间（天）\")\n",
    "plt.xlabel(\"平均处理时间\")\n",
    "plt.ylabel(\"州\")\n",
    "plt.grid(axis='x')\n",
    "plt.show()"
   ]
  },
  {
   "cell_type": "code",
   "execution_count": null,
   "id": "4a0b4a7c",
   "metadata": {},
   "outputs": [],
   "source": [
    "edu_group = df_clean.groupby('education_level')['is_certified'].mean().sort_values(ascending=False)\n",
    "\n",
    "plt.figure(figsize=(8,6))\n",
    "sns.barplot(x=edu_group.index, y=edu_group.values, palette='viridis')\n",
    "plt.title(\"不同学历申请者的通过率\")\n",
    "plt.xlabel(\"学历\")\n",
    "plt.ylabel(\"通过率\")\n",
    "plt.ylim(0.6, 1.0)\n",
    "plt.grid(axis='y')\n",
    "plt.xticks(rotation=30)\n",
    "plt.show()"
   ]
  }
 ],
 "metadata": {},
 "nbformat": 4,
 "nbformat_minor": 5
}
